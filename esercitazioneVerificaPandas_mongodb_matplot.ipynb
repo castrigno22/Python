{
  "nbformat": 4,
  "nbformat_minor": 0,
  "metadata": {
    "colab": {
      "name": "esercitazioneVerificaPandas-mongodb-matplot",
      "provenance": [],
      "collapsed_sections": [],
      "authorship_tag": "ABX9TyMj3tzmVSShh0bIEG+fOq2q",
      "include_colab_link": true
    },
    "kernelspec": {
      "name": "python3",
      "display_name": "Python 3"
    },
    "language_info": {
      "name": "python"
    }
  },
  "cells": [
    {
      "cell_type": "markdown",
      "metadata": {
        "id": "view-in-github",
        "colab_type": "text"
      },
      "source": [
        "<a href=\"https://colab.research.google.com/github/castrigno22/Python/blob/main/esercitazioneVerificaPandas_mongodb_matplot.ipynb\" target=\"_parent\"><img src=\"https://colab.research.google.com/assets/colab-badge.svg\" alt=\"Open In Colab\"/></a>"
      ]
    },
    {
      "cell_type": "code",
      "metadata": {
        "id": "M65yI5kZz0PY"
      },
      "source": [
        "import pymongo\n",
        "import pandas as pd\n",
        "import matplotlib.pyplot as plt \n",
        "import numpy as np"
      ],
      "execution_count": null,
      "outputs": []
    },
    {
      "cell_type": "code",
      "metadata": {
        "colab": {
          "base_uri": "https://localhost:8080/",
          "height": 424
        },
        "id": "gqyr039Nz_N_",
        "outputId": "9d728246-46b5-47a4-dd85-78285c753615"
      },
      "source": [
        "df = pd.read_csv(\"https://raw.githubusercontent.com/wtitze/4E/main/prime_titles.csv\")\n",
        "df"
      ],
      "execution_count": null,
      "outputs": [
        {
          "output_type": "execute_result",
          "data": {
            "text/html": [
              "<div>\n",
              "<style scoped>\n",
              "    .dataframe tbody tr th:only-of-type {\n",
              "        vertical-align: middle;\n",
              "    }\n",
              "\n",
              "    .dataframe tbody tr th {\n",
              "        vertical-align: top;\n",
              "    }\n",
              "\n",
              "    .dataframe thead th {\n",
              "        text-align: right;\n",
              "    }\n",
              "</style>\n",
              "<table border=\"1\" class=\"dataframe\">\n",
              "  <thead>\n",
              "    <tr style=\"text-align: right;\">\n",
              "      <th></th>\n",
              "      <th>S.no.</th>\n",
              "      <th>Name of the show</th>\n",
              "      <th>Year of release</th>\n",
              "      <th>No of seasons available</th>\n",
              "      <th>Language</th>\n",
              "      <th>Genre</th>\n",
              "      <th>IMDb rating</th>\n",
              "      <th>Age of viewers</th>\n",
              "    </tr>\n",
              "  </thead>\n",
              "  <tbody>\n",
              "    <tr>\n",
              "      <th>0</th>\n",
              "      <td>1</td>\n",
              "      <td>Pataal Lok</td>\n",
              "      <td>2020.0</td>\n",
              "      <td>1.0</td>\n",
              "      <td>Hindi</td>\n",
              "      <td>Drama</td>\n",
              "      <td>7.5</td>\n",
              "      <td>18+</td>\n",
              "    </tr>\n",
              "    <tr>\n",
              "      <th>1</th>\n",
              "      <td>2</td>\n",
              "      <td>Upload</td>\n",
              "      <td>2020.0</td>\n",
              "      <td>1.0</td>\n",
              "      <td>English</td>\n",
              "      <td>Sci-fi comedy</td>\n",
              "      <td>8.1</td>\n",
              "      <td>16+</td>\n",
              "    </tr>\n",
              "    <tr>\n",
              "      <th>2</th>\n",
              "      <td>3</td>\n",
              "      <td>The Marvelous Mrs. Maisel</td>\n",
              "      <td>2017.0</td>\n",
              "      <td>3.0</td>\n",
              "      <td>English</td>\n",
              "      <td>Drama, Comedy</td>\n",
              "      <td>8.7</td>\n",
              "      <td>16+</td>\n",
              "    </tr>\n",
              "    <tr>\n",
              "      <th>3</th>\n",
              "      <td>4</td>\n",
              "      <td>Four More Shots Please</td>\n",
              "      <td>2019.0</td>\n",
              "      <td>2.0</td>\n",
              "      <td>Hindi</td>\n",
              "      <td>Drama, Comedy</td>\n",
              "      <td>5.3</td>\n",
              "      <td>18+</td>\n",
              "    </tr>\n",
              "    <tr>\n",
              "      <th>4</th>\n",
              "      <td>5</td>\n",
              "      <td>Fleabag</td>\n",
              "      <td>2016.0</td>\n",
              "      <td>2.0</td>\n",
              "      <td>English</td>\n",
              "      <td>Comedy</td>\n",
              "      <td>8.7</td>\n",
              "      <td>18+</td>\n",
              "    </tr>\n",
              "    <tr>\n",
              "      <th>...</th>\n",
              "      <td>...</td>\n",
              "      <td>...</td>\n",
              "      <td>...</td>\n",
              "      <td>...</td>\n",
              "      <td>...</td>\n",
              "      <td>...</td>\n",
              "      <td>...</td>\n",
              "      <td>...</td>\n",
              "    </tr>\n",
              "    <tr>\n",
              "      <th>399</th>\n",
              "      <td>400</td>\n",
              "      <td>NaN</td>\n",
              "      <td>NaN</td>\n",
              "      <td>NaN</td>\n",
              "      <td>NaN</td>\n",
              "      <td>NaN</td>\n",
              "      <td>NaN</td>\n",
              "      <td>NaN</td>\n",
              "    </tr>\n",
              "    <tr>\n",
              "      <th>400</th>\n",
              "      <td>401</td>\n",
              "      <td>NaN</td>\n",
              "      <td>NaN</td>\n",
              "      <td>NaN</td>\n",
              "      <td>NaN</td>\n",
              "      <td>NaN</td>\n",
              "      <td>NaN</td>\n",
              "      <td>NaN</td>\n",
              "    </tr>\n",
              "    <tr>\n",
              "      <th>401</th>\n",
              "      <td>402</td>\n",
              "      <td>NaN</td>\n",
              "      <td>NaN</td>\n",
              "      <td>NaN</td>\n",
              "      <td>NaN</td>\n",
              "      <td>NaN</td>\n",
              "      <td>NaN</td>\n",
              "      <td>NaN</td>\n",
              "    </tr>\n",
              "    <tr>\n",
              "      <th>402</th>\n",
              "      <td>403</td>\n",
              "      <td>NaN</td>\n",
              "      <td>NaN</td>\n",
              "      <td>NaN</td>\n",
              "      <td>NaN</td>\n",
              "      <td>NaN</td>\n",
              "      <td>NaN</td>\n",
              "      <td>NaN</td>\n",
              "    </tr>\n",
              "    <tr>\n",
              "      <th>403</th>\n",
              "      <td>404</td>\n",
              "      <td>NaN</td>\n",
              "      <td>NaN</td>\n",
              "      <td>NaN</td>\n",
              "      <td>NaN</td>\n",
              "      <td>NaN</td>\n",
              "      <td>NaN</td>\n",
              "      <td>NaN</td>\n",
              "    </tr>\n",
              "  </tbody>\n",
              "</table>\n",
              "<p>404 rows × 8 columns</p>\n",
              "</div>"
            ],
            "text/plain": [
              "     S.no.           Name of the show  ...  IMDb rating  Age of viewers\n",
              "0        1                 Pataal Lok  ...          7.5             18+\n",
              "1        2                     Upload  ...          8.1             16+\n",
              "2        3  The Marvelous Mrs. Maisel  ...          8.7             16+\n",
              "3        4     Four More Shots Please  ...          5.3             18+\n",
              "4        5                    Fleabag  ...          8.7             18+\n",
              "..     ...                        ...  ...          ...             ...\n",
              "399    400                        NaN  ...          NaN             NaN\n",
              "400    401                        NaN  ...          NaN             NaN\n",
              "401    402                        NaN  ...          NaN             NaN\n",
              "402    403                        NaN  ...          NaN             NaN\n",
              "403    404                        NaN  ...          NaN             NaN\n",
              "\n",
              "[404 rows x 8 columns]"
            ]
          },
          "metadata": {},
          "execution_count": 5
        }
      ]
    },
    {
      "cell_type": "markdown",
      "metadata": {
        "id": "TFL6TlmC0RoW"
      },
      "source": [
        "3. eliminare dal dataframe tutti i record con valori NaN"
      ]
    },
    {
      "cell_type": "code",
      "metadata": {
        "colab": {
          "base_uri": "https://localhost:8080/",
          "height": 424
        },
        "id": "W2GL3ccj0IUi",
        "outputId": "6b7d4dbf-30e5-4e73-e241-a0d406f9273a"
      },
      "source": [
        "df.dropna(subset = ['Name of the show','Year of release','No of seasons available','Language','Genre','IMDb rating', \"Age of viewers\"], inplace = True) \n",
        "df"
      ],
      "execution_count": null,
      "outputs": [
        {
          "output_type": "execute_result",
          "data": {
            "text/html": [
              "<div>\n",
              "<style scoped>\n",
              "    .dataframe tbody tr th:only-of-type {\n",
              "        vertical-align: middle;\n",
              "    }\n",
              "\n",
              "    .dataframe tbody tr th {\n",
              "        vertical-align: top;\n",
              "    }\n",
              "\n",
              "    .dataframe thead th {\n",
              "        text-align: right;\n",
              "    }\n",
              "</style>\n",
              "<table border=\"1\" class=\"dataframe\">\n",
              "  <thead>\n",
              "    <tr style=\"text-align: right;\">\n",
              "      <th></th>\n",
              "      <th>S.no.</th>\n",
              "      <th>Name of the show</th>\n",
              "      <th>Year of release</th>\n",
              "      <th>No of seasons available</th>\n",
              "      <th>Language</th>\n",
              "      <th>Genre</th>\n",
              "      <th>IMDb rating</th>\n",
              "      <th>Age of viewers</th>\n",
              "    </tr>\n",
              "  </thead>\n",
              "  <tbody>\n",
              "    <tr>\n",
              "      <th>0</th>\n",
              "      <td>1</td>\n",
              "      <td>Pataal Lok</td>\n",
              "      <td>2020.0</td>\n",
              "      <td>1.0</td>\n",
              "      <td>Hindi</td>\n",
              "      <td>Drama</td>\n",
              "      <td>7.5</td>\n",
              "      <td>18+</td>\n",
              "    </tr>\n",
              "    <tr>\n",
              "      <th>1</th>\n",
              "      <td>2</td>\n",
              "      <td>Upload</td>\n",
              "      <td>2020.0</td>\n",
              "      <td>1.0</td>\n",
              "      <td>English</td>\n",
              "      <td>Sci-fi comedy</td>\n",
              "      <td>8.1</td>\n",
              "      <td>16+</td>\n",
              "    </tr>\n",
              "    <tr>\n",
              "      <th>2</th>\n",
              "      <td>3</td>\n",
              "      <td>The Marvelous Mrs. Maisel</td>\n",
              "      <td>2017.0</td>\n",
              "      <td>3.0</td>\n",
              "      <td>English</td>\n",
              "      <td>Drama, Comedy</td>\n",
              "      <td>8.7</td>\n",
              "      <td>16+</td>\n",
              "    </tr>\n",
              "    <tr>\n",
              "      <th>3</th>\n",
              "      <td>4</td>\n",
              "      <td>Four More Shots Please</td>\n",
              "      <td>2019.0</td>\n",
              "      <td>2.0</td>\n",
              "      <td>Hindi</td>\n",
              "      <td>Drama, Comedy</td>\n",
              "      <td>5.3</td>\n",
              "      <td>18+</td>\n",
              "    </tr>\n",
              "    <tr>\n",
              "      <th>4</th>\n",
              "      <td>5</td>\n",
              "      <td>Fleabag</td>\n",
              "      <td>2016.0</td>\n",
              "      <td>2.0</td>\n",
              "      <td>English</td>\n",
              "      <td>Comedy</td>\n",
              "      <td>8.7</td>\n",
              "      <td>18+</td>\n",
              "    </tr>\n",
              "    <tr>\n",
              "      <th>...</th>\n",
              "      <td>...</td>\n",
              "      <td>...</td>\n",
              "      <td>...</td>\n",
              "      <td>...</td>\n",
              "      <td>...</td>\n",
              "      <td>...</td>\n",
              "      <td>...</td>\n",
              "      <td>...</td>\n",
              "    </tr>\n",
              "    <tr>\n",
              "      <th>373</th>\n",
              "      <td>374</td>\n",
              "      <td>The Danny Thomas Show</td>\n",
              "      <td>1958.0</td>\n",
              "      <td>3.0</td>\n",
              "      <td>English</td>\n",
              "      <td>Comedy</td>\n",
              "      <td>7.2</td>\n",
              "      <td>All</td>\n",
              "    </tr>\n",
              "    <tr>\n",
              "      <th>374</th>\n",
              "      <td>375</td>\n",
              "      <td>Hitoshi Matsumoto Presents Documental</td>\n",
              "      <td>2018.0</td>\n",
              "      <td>3.0</td>\n",
              "      <td>Japanese</td>\n",
              "      <td>Comedy</td>\n",
              "      <td>8.0</td>\n",
              "      <td>18+</td>\n",
              "    </tr>\n",
              "    <tr>\n",
              "      <th>375</th>\n",
              "      <td>376</td>\n",
              "      <td>Businessmen VS Aliens</td>\n",
              "      <td>2018.0</td>\n",
              "      <td>1.0</td>\n",
              "      <td>Japanese</td>\n",
              "      <td>Comedy</td>\n",
              "      <td>4.5</td>\n",
              "      <td>13+</td>\n",
              "    </tr>\n",
              "    <tr>\n",
              "      <th>379</th>\n",
              "      <td>380</td>\n",
              "      <td>Scooter: Secret Agent</td>\n",
              "      <td>2003.0</td>\n",
              "      <td>1.0</td>\n",
              "      <td>English</td>\n",
              "      <td>Comedy</td>\n",
              "      <td>6.8</td>\n",
              "      <td>All</td>\n",
              "    </tr>\n",
              "    <tr>\n",
              "      <th>383</th>\n",
              "      <td>384</td>\n",
              "      <td>The Real McCoys</td>\n",
              "      <td>1958.0</td>\n",
              "      <td>6.0</td>\n",
              "      <td>English</td>\n",
              "      <td>Comedy</td>\n",
              "      <td>7.5</td>\n",
              "      <td>All</td>\n",
              "    </tr>\n",
              "  </tbody>\n",
              "</table>\n",
              "<p>182 rows × 8 columns</p>\n",
              "</div>"
            ],
            "text/plain": [
              "     S.no.                       Name of the show  ...  IMDb rating  Age of viewers\n",
              "0        1                             Pataal Lok  ...          7.5             18+\n",
              "1        2                                 Upload  ...          8.1             16+\n",
              "2        3              The Marvelous Mrs. Maisel  ...          8.7             16+\n",
              "3        4                 Four More Shots Please  ...          5.3             18+\n",
              "4        5                                Fleabag  ...          8.7             18+\n",
              "..     ...                                    ...  ...          ...             ...\n",
              "373    374                  The Danny Thomas Show  ...          7.2             All\n",
              "374    375  Hitoshi Matsumoto Presents Documental  ...          8.0             18+\n",
              "375    376                  Businessmen VS Aliens  ...          4.5             13+\n",
              "379    380                  Scooter: Secret Agent  ...          6.8             All\n",
              "383    384                        The Real McCoys  ...          7.5             All\n",
              "\n",
              "[182 rows x 8 columns]"
            ]
          },
          "metadata": {},
          "execution_count": 6
        }
      ]
    },
    {
      "cell_type": "markdown",
      "metadata": {
        "id": "yrOA6tW40692"
      },
      "source": [
        "4. calcolare il numero di show per ogni lingua. Ordinare in ordine decrescente sul numero"
      ]
    },
    {
      "cell_type": "code",
      "metadata": {
        "colab": {
          "base_uri": "https://localhost:8080/"
        },
        "id": "gis5lnbE09ll",
        "outputId": "6bb4dd83-42f6-4289-8133-918d4237ddef"
      },
      "source": [
        "l = df['Language'].value_counts()\n",
        "l"
      ],
      "execution_count": null,
      "outputs": [
        {
          "output_type": "execute_result",
          "data": {
            "text/plain": [
              "English     155\n",
              "Hindi        17\n",
              "Japanese      7\n",
              "Suomi         1\n",
              "Spanish       1\n",
              "Deutsch       1\n",
              "Name: Language, dtype: int64"
            ]
          },
          "metadata": {},
          "execution_count": 7
        }
      ]
    },
    {
      "cell_type": "markdown",
      "metadata": {
        "id": "O0Dzgfy-1Lz5"
      },
      "source": [
        "5. visualizzare il grafico a barre verticali dei dati precedenti"
      ]
    },
    {
      "cell_type": "code",
      "metadata": {
        "colab": {
          "base_uri": "https://localhost:8080/",
          "height": 280
        },
        "id": "zTbA9BKR1OEP",
        "outputId": "f4b6b765-64be-474f-a853-64f910d4ec0b"
      },
      "source": [
        "fig,ax = plt.subplots()\n",
        "fig.autofmt_xdate(rotation=90)\n",
        "ax.bar(l.index[:10],l[:10])\n",
        "plt.show()"
      ],
      "execution_count": null,
      "outputs": [
        {
          "output_type": "display_data",
          "data": {
            "image/png": "[encoded data removed]",
            "text/plain": [
              "<Figure size 432x288 with 1 Axes>"
            ]
          },
          "metadata": {
            "needs_background": "light"
          }
        }
      ]
    },
    {
      "cell_type": "markdown",
      "metadata": {
        "id": "vPYIyl5X17L-"
      },
      "source": [
        "6. visualizzare le stesse informazioni dell'esercizio precedente utilizzando un grafico a torta"
      ]
    },
    {
      "cell_type": "code",
      "metadata": {
        "colab": {
          "base_uri": "https://localhost:8080/",
          "height": 248
        },
        "id": "oxbHR0gH19Y9",
        "outputId": "035c1ed4-8d65-4c77-a57f-72521d8a7c06"
      },
      "source": [
        "fig,ax = plt.subplots()\n",
        "ax.pie(l,autopct= '%.2f%%',labels= l.index)\n",
        "plt.show()"
      ],
      "execution_count": null,
      "outputs": [
        {
          "output_type": "display_data",
          "data": {
            "image/png": "[encoded data removed]",
            "text/plain": [
              "<Figure size 432x288 with 1 Axes>"
            ]
          },
          "metadata": {}
        }
      ]
    },
    {
      "cell_type": "markdown",
      "metadata": {
        "id": "XvKKkQm02Gvt"
      },
      "source": [
        "7. creare un nuovo dataframe che nella colonna 'Language' contenga solo 'English' o 'non English'\n"
      ]
    },
    {
      "cell_type": "code",
      "metadata": {
        "colab": {
          "base_uri": "https://localhost:8080/",
          "height": 510
        },
        "id": "e7nhlncR2Jxt",
        "outputId": "4f1b8f5d-4720-44ba-8494-3e6d2a699016"
      },
      "source": [
        "df1 = df.cpy()\n",
        "df1[\"Language\"].loc[df['Language'] !=\"English\"] ='non English'\n",
        "df1"
      ],
      "execution_count": null,
      "outputs": [
        {
          "output_type": "stream",
          "name": "stderr",
          "text": [
            "/usr/local/lib/python3.7/dist-packages/pandas/core/indexing.py:670: SettingWithCopyWarning: \n",
            "A value is trying to be set on a copy of a slice from a DataFrame\n",
            "\n",
            "See the caveats in the documentation: https://pandas.pydata.org/pandas-docs/stable/user_guide/indexing.html#returning-a-view-versus-a-copy\n",
            "  iloc._setitem_with_indexer(indexer, value)\n"
          ]
        },
        {
          "output_type": "execute_result",
          "data": {
            "text/html": [
              "<div>\n",
              "<style scoped>\n",
              "    .dataframe tbody tr th:only-of-type {\n",
              "        vertical-align: middle;\n",
              "    }\n",
              "\n",
              "    .dataframe tbody tr th {\n",
              "        vertical-align: top;\n",
              "    }\n",
              "\n",
              "    .dataframe thead th {\n",
              "        text-align: right;\n",
              "    }\n",
              "</style>\n",
              "<table border=\"1\" class=\"dataframe\">\n",
              "  <thead>\n",
              "    <tr style=\"text-align: right;\">\n",
              "      <th></th>\n",
              "      <th>S.no.</th>\n",
              "      <th>Name of the show</th>\n",
              "      <th>Year of release</th>\n",
              "      <th>No of seasons available</th>\n",
              "      <th>Language</th>\n",
              "      <th>Genre</th>\n",
              "      <th>IMDb rating</th>\n",
              "      <th>Age of viewers</th>\n",
              "    </tr>\n",
              "  </thead>\n",
              "  <tbody>\n",
              "    <tr>\n",
              "      <th>0</th>\n",
              "      <td>1</td>\n",
              "      <td>Pataal Lok</td>\n",
              "      <td>2020.0</td>\n",
              "      <td>1.0</td>\n",
              "      <td>non English</td>\n",
              "      <td>Drama</td>\n",
              "      <td>7.5</td>\n",
              "      <td>18+</td>\n",
              "    </tr>\n",
              "    <tr>\n",
              "      <th>1</th>\n",
              "      <td>2</td>\n",
              "      <td>Upload</td>\n",
              "      <td>2020.0</td>\n",
              "      <td>1.0</td>\n",
              "      <td>English</td>\n",
              "      <td>Sci-fi comedy</td>\n",
              "      <td>8.1</td>\n",
              "      <td>16+</td>\n",
              "    </tr>\n",
              "    <tr>\n",
              "      <th>2</th>\n",
              "      <td>3</td>\n",
              "      <td>The Marvelous Mrs. Maisel</td>\n",
              "      <td>2017.0</td>\n",
              "      <td>3.0</td>\n",
              "      <td>English</td>\n",
              "      <td>Drama, Comedy</td>\n",
              "      <td>8.7</td>\n",
              "      <td>16+</td>\n",
              "    </tr>\n",
              "    <tr>\n",
              "      <th>3</th>\n",
              "      <td>4</td>\n",
              "      <td>Four More Shots Please</td>\n",
              "      <td>2019.0</td>\n",
              "      <td>2.0</td>\n",
              "      <td>non English</td>\n",
              "      <td>Drama, Comedy</td>\n",
              "      <td>5.3</td>\n",
              "      <td>18+</td>\n",
              "    </tr>\n",
              "    <tr>\n",
              "      <th>4</th>\n",
              "      <td>5</td>\n",
              "      <td>Fleabag</td>\n",
              "      <td>2016.0</td>\n",
              "      <td>2.0</td>\n",
              "      <td>English</td>\n",
              "      <td>Comedy</td>\n",
              "      <td>8.7</td>\n",
              "      <td>18+</td>\n",
              "    </tr>\n",
              "    <tr>\n",
              "      <th>...</th>\n",
              "      <td>...</td>\n",
              "      <td>...</td>\n",
              "      <td>...</td>\n",
              "      <td>...</td>\n",
              "      <td>...</td>\n",
              "      <td>...</td>\n",
              "      <td>...</td>\n",
              "      <td>...</td>\n",
              "    </tr>\n",
              "    <tr>\n",
              "      <th>373</th>\n",
              "      <td>374</td>\n",
              "      <td>The Danny Thomas Show</td>\n",
              "      <td>1958.0</td>\n",
              "      <td>3.0</td>\n",
              "      <td>English</td>\n",
              "      <td>Comedy</td>\n",
              "      <td>7.2</td>\n",
              "      <td>All</td>\n",
              "    </tr>\n",
              "    <tr>\n",
              "      <th>374</th>\n",
              "      <td>375</td>\n",
              "      <td>Hitoshi Matsumoto Presents Documental</td>\n",
              "      <td>2018.0</td>\n",
              "      <td>3.0</td>\n",
              "      <td>non English</td>\n",
              "      <td>Comedy</td>\n",
              "      <td>8.0</td>\n",
              "      <td>18+</td>\n",
              "    </tr>\n",
              "    <tr>\n",
              "      <th>375</th>\n",
              "      <td>376</td>\n",
              "      <td>Businessmen VS Aliens</td>\n",
              "      <td>2018.0</td>\n",
              "      <td>1.0</td>\n",
              "      <td>non English</td>\n",
              "      <td>Comedy</td>\n",
              "      <td>4.5</td>\n",
              "      <td>13+</td>\n",
              "    </tr>\n",
              "    <tr>\n",
              "      <th>379</th>\n",
              "      <td>380</td>\n",
              "      <td>Scooter: Secret Agent</td>\n",
              "      <td>2003.0</td>\n",
              "      <td>1.0</td>\n",
              "      <td>English</td>\n",
              "      <td>Comedy</td>\n",
              "      <td>6.8</td>\n",
              "      <td>All</td>\n",
              "    </tr>\n",
              "    <tr>\n",
              "      <th>383</th>\n",
              "      <td>384</td>\n",
              "      <td>The Real McCoys</td>\n",
              "      <td>1958.0</td>\n",
              "      <td>6.0</td>\n",
              "      <td>English</td>\n",
              "      <td>Comedy</td>\n",
              "      <td>7.5</td>\n",
              "      <td>All</td>\n",
              "    </tr>\n",
              "  </tbody>\n",
              "</table>\n",
              "<p>182 rows × 8 columns</p>\n",
              "</div>"
            ],
            "text/plain": [
              "     S.no.                       Name of the show  ...  IMDb rating  Age of viewers\n",
              "0        1                             Pataal Lok  ...          7.5             18+\n",
              "1        2                                 Upload  ...          8.1             16+\n",
              "2        3              The Marvelous Mrs. Maisel  ...          8.7             16+\n",
              "3        4                 Four More Shots Please  ...          5.3             18+\n",
              "4        5                                Fleabag  ...          8.7             18+\n",
              "..     ...                                    ...  ...          ...             ...\n",
              "373    374                  The Danny Thomas Show  ...          7.2             All\n",
              "374    375  Hitoshi Matsumoto Presents Documental  ...          8.0             18+\n",
              "375    376                  Businessmen VS Aliens  ...          4.5             13+\n",
              "379    380                  Scooter: Secret Agent  ...          6.8             All\n",
              "383    384                        The Real McCoys  ...          7.5             All\n",
              "\n",
              "[182 rows x 8 columns]"
            ]
          },
          "metadata": {},
          "execution_count": 11
        }
      ]
    },
    {
      "cell_type": "code",
      "metadata": {
        "id": "cJ9TGXRNlyeg"
      },
      "source": [
        "df\n"
      ],
      "execution_count": null,
      "outputs": []
    },
    {
      "cell_type": "markdown",
      "metadata": {
        "id": "gtAOAK883lBl"
      },
      "source": [
        "8. visualizzare un grafico a barre con gli anni sulle ascisse e il numero di show in inglese e non in inglese sulle ordinate. Considerare solo gli ultimi 10 anni (vedi grafico allegato come esempio)"
      ]
    },
    {
      "cell_type": "code",
      "metadata": {
        "id": "1nixWpBb3tWA"
      },
      "source": [
        ""
      ],
      "execution_count": null,
      "outputs": []
    }
  ]
}
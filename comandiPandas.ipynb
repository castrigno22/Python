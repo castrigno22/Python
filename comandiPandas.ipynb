{
  "nbformat": 4,
  "nbformat_minor": 0,
  "metadata": {
    "colab": {
      "name": "comandiPandas.ipynb",
      "provenance": [],
      "collapsed_sections": [],
      "authorship_tag": "ABX9TyPgFbOxpJz7EalAR3abKi60",
      "include_colab_link": true
    },
    "kernelspec": {
      "name": "python3",
      "display_name": "Python 3"
    },
    "language_info": {
      "name": "python"
    }
  },
  "cells": [
    {
      "cell_type": "markdown",
      "metadata": {
        "id": "view-in-github",
        "colab_type": "text"
      },
      "source": [
        "<a href=\"https://colab.research.google.com/github/castrigno22/Python/blob/main/comandiPandas.ipynb\" target=\"_parent\"><img src=\"https://colab.research.google.com/assets/colab-badge.svg\" alt=\"Open In Colab\"/></a>"
      ]
    },
    {
      "cell_type": "code",
      "metadata": {
        "id": "GJu04U5JdR1K"
      },
      "source": [
        "#1 caricare i dati in un dataframe e studiare le informazioni inserite per capire di che cosa si tratta\n",
        "import pandas as pd\n",
        "df = pd.read_csv(\"https://raw.githubusercontent.com/CappuCitti/Python-appunti-ed-esercizi/main/Pandas/Data/uffici_postali_milano.csv\")\n",
        "df"
      ],
      "execution_count": null,
      "outputs": []
    },
    {
      "cell_type": "code",
      "metadata": {
        "id": "sdiyNvNpd8Y4"
      },
      "source": [
        "#2. visualizzare solo la prima colonna\n",
        "df[[\"Indirizzo\"]]"
      ],
      "execution_count": null,
      "outputs": []
    },
    {
      "cell_type": "code",
      "metadata": {
        "id": "FQ7cgwWkeS_3"
      },
      "source": [
        "#3. visualizzare solo l'ultima colonna\n",
        "df[[\"Location\"]]"
      ],
      "execution_count": null,
      "outputs": []
    },
    {
      "cell_type": "code",
      "metadata": {
        "id": "IPOIt-axewp4"
      },
      "source": [
        "#4. visualizzare le colonne dalle terza alla quinta\n",
        "df.iloc[:, 3:6]"
      ],
      "execution_count": null,
      "outputs": []
    },
    {
      "cell_type": "code",
      "metadata": {
        "id": "uoIqOaR-gnfB"
      },
      "source": [
        "#5. visualizzare la terza e la sesta colonna\n",
        "df.iloc[:,[3,6]]"
      ],
      "execution_count": null,
      "outputs": []
    },
    {
      "cell_type": "code",
      "metadata": {
        "id": "7ZBUiS0ZhiZp"
      },
      "source": [
        "#6. visualizzare la colonna dell'indirizzo e del municipio\n",
        "df[[\"Indirizzo\", \"MUNICIPIO\"]]"
      ],
      "execution_count": null,
      "outputs": []
    },
    {
      "cell_type": "code",
      "metadata": {
        "id": "1dUcWSKgh9jZ"
      },
      "source": [
        "#7. visualizzare la prima riga\n",
        "df.head(1)"
      ],
      "execution_count": null,
      "outputs": []
    },
    {
      "cell_type": "code",
      "metadata": {
        "id": "qmugjiRviH0I"
      },
      "source": [
        "#8. visualizzare l'ultima riga\n",
        "df.tail(1)"
      ],
      "execution_count": null,
      "outputs": []
    },
    {
      "cell_type": "code",
      "metadata": {
        "id": "KdmsiXF-iySR"
      },
      "source": [
        "#9 visualizzare la riga centrale\n"
      ],
      "execution_count": null,
      "outputs": []
    },
    {
      "cell_type": "code",
      "metadata": {
        "id": "htEsG4BZjd0h"
      },
      "source": [
        "#10. visualizzare le righe 3, 4 e 12\n",
        "df.iloc[[3,4,12],:]"
      ],
      "execution_count": null,
      "outputs": []
    },
    {
      "cell_type": "code",
      "metadata": {
        "id": "rTGLHNQUlERR"
      },
      "source": [
        "#11  visualizzare le righe dalla decima alla quindicesima\n",
        "df[10:16]"
      ],
      "execution_count": null,
      "outputs": []
    },
    {
      "cell_type": "code",
      "metadata": {
        "id": "2ZswP7aHl3Xp"
      },
      "source": [
        "#12. visualizzare la colonna indirizzo e NIL delle righe dalla decima alla quindicesima\n",
        "df[10:16][[\"Indirizzo\", \"NIL\"]]"
      ],
      "execution_count": null,
      "outputs": []
    },
    {
      "cell_type": "code",
      "metadata": {
        "id": "weZdXQkEmTjz"
      },
      "source": [
        "#13. visualizzare le colonne telefono e fax delle righe 3, 5 e 12\n",
        "df.iloc[[3,5,12],:][[\"Telefono\",\"Fax\"]]"
      ],
      "execution_count": null,
      "outputs": []
    }
  ]
}